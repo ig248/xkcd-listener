{
 "cells": [
  {
   "cell_type": "code",
   "execution_count": 29,
   "metadata": {
    "collapsed": false
   },
   "outputs": [],
   "source": [
    "import xkcd\n",
    "import webbrowser\n",
    "import pandas as pd"
   ]
  },
  {
   "cell_type": "code",
   "execution_count": 159,
   "metadata": {
    "collapsed": false
   },
   "outputs": [],
   "source": [
    "last = xkcd.getLatestComic()\n",
    "nmax = last.number"
   ]
  },
  {
   "cell_type": "code",
   "execution_count": 194,
   "metadata": {
    "collapsed": false
   },
   "outputs": [],
   "source": [
    "c = xkcd.Comic(846)"
   ]
  },
  {
   "cell_type": "code",
   "execution_count": 165,
   "metadata": {
    "collapsed": false
   },
   "outputs": [
    {
     "name": "stdout",
     "output_type": "stream",
     "text": [
      "404 Failed to import #404\n",
      "1802\n"
     ]
    }
   ],
   "source": [
    "try:\n",
    "    df = pd.DataFrame.from_csv('xkcd.csv')\n",
    "except:\n",
    "    df = pd.DataFrame(columns=['title', 'alt'])\n",
    "    df.index.name = 'n'\n",
    "\n",
    "new = False\n",
    "for n in xrange(1,nmax):\n",
    "    print '\\r', n,\n",
    "    if n not in df.index:\n",
    "        try:\n",
    "            comic = xkcd.Comic(n)\n",
    "            df.loc[n] = [comic.title, comic.altText]\n",
    "            new = True\n",
    "        except:\n",
    "            print 'Failed to import #%d' % n\n",
    "\n",
    "if new:\n",
    "    df.to_csv('xkcd.csv', encoding='utf-8')"
   ]
  },
  {
   "cell_type": "code",
   "execution_count": 204,
   "metadata": {
    "collapsed": false
   },
   "outputs": [],
   "source": [
    "text = \"my code is compiling\"\n",
    "query = text.lower().split()\n",
    "query = [q for q in query if len(q) > 2]"
   ]
  },
  {
   "cell_type": "code",
   "execution_count": 205,
   "metadata": {
    "collapsed": true
   },
   "outputs": [],
   "source": [
    "def score(row, query=()):\n",
    "    \"\"\"scoring function to be applied to DF row\"\"\"\n",
    "    query = [q.lower() for q in query]\n",
    "    try:\n",
    "        title_matches = [w for w in row.title.lower().split() if w in query]\n",
    "    except:\n",
    "        title_matches = []\n",
    "    try:\n",
    "        alt_matches = [w for w in row.alt.lower().split() if w in query]\n",
    "    except:\n",
    "        alt_matches = []\n",
    "    return len(title_matches) + len(alt_matches)"
   ]
  },
  {
   "cell_type": "code",
   "execution_count": 206,
   "metadata": {
    "collapsed": false
   },
   "outputs": [],
   "source": [
    "scores = df.apply(score, axis =1, query=query)"
   ]
  },
  {
   "cell_type": "code",
   "execution_count": 207,
   "metadata": {
    "collapsed": false
   },
   "outputs": [
    {
     "name": "stdout",
     "output_type": "stream",
     "text": [
      "303\n"
     ]
    },
    {
     "data": {
      "text/plain": [
       "True"
      ]
     },
     "execution_count": 207,
     "metadata": {},
     "output_type": "execute_result"
    }
   ],
   "source": [
    "n = scores.idxmax()\n",
    "print n\n",
    "webbrowser.open('https://www.xkcd.com/%d/' % n)"
   ]
  },
  {
   "cell_type": "code",
   "execution_count": 192,
   "metadata": {
    "collapsed": false
   },
   "outputs": [
    {
     "data": {
      "text/plain": [
       "0"
      ]
     },
     "execution_count": 192,
     "metadata": {},
     "output_type": "execute_result"
    }
   ],
   "source": [
    "scores[n]"
   ]
  },
  {
   "cell_type": "code",
   "execution_count": null,
   "metadata": {
    "collapsed": true
   },
   "outputs": [],
   "source": []
  }
 ],
 "metadata": {
  "anaconda-cloud": {},
  "kernelspec": {
   "display_name": "Python [default]",
   "language": "python",
   "name": "python2"
  },
  "language_info": {
   "codemirror_mode": {
    "name": "ipython",
    "version": 2
   },
   "file_extension": ".py",
   "mimetype": "text/x-python",
   "name": "python",
   "nbconvert_exporter": "python",
   "pygments_lexer": "ipython2",
   "version": "2.7.12"
  }
 },
 "nbformat": 4,
 "nbformat_minor": 1
}
